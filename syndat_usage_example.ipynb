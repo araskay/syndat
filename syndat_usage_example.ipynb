{
 "cells": [
  {
   "cell_type": "code",
   "execution_count": 1,
   "metadata": {
    "colab": {},
    "colab_type": "code",
    "id": "lqR-qN8_i_SP"
   },
   "outputs": [],
   "source": [
    "import numpy as np\n",
    "import pandas as pd\n",
    "\n",
    "import syndat\n",
    "import dt_null_encoder\n",
    "\n",
    "%matplotlib inline\n",
    "import matplotlib.pyplot as plt\n",
    "from mpl_toolkits.mplot3d import Axes3D"
   ]
  },
  {
   "cell_type": "code",
   "execution_count": 34,
   "metadata": {
    "colab": {
     "base_uri": "https://localhost:8080/",
     "height": 202
    },
    "colab_type": "code",
    "id": "ujHtG8rTi_SS",
    "outputId": "44f00f65-af7d-4bc7-c6d4-592afa42ea9a"
   },
   "outputs": [
    {
     "data": {
      "text/html": [
       "<div>\n",
       "<style scoped>\n",
       "    .dataframe tbody tr th:only-of-type {\n",
       "        vertical-align: middle;\n",
       "    }\n",
       "\n",
       "    .dataframe tbody tr th {\n",
       "        vertical-align: top;\n",
       "    }\n",
       "\n",
       "    .dataframe thead th {\n",
       "        text-align: right;\n",
       "    }\n",
       "</style>\n",
       "<table border=\"1\" class=\"dataframe\">\n",
       "  <thead>\n",
       "    <tr style=\"text-align: right;\">\n",
       "      <th></th>\n",
       "      <th>x_norm</th>\n",
       "      <th>x_unif</th>\n",
       "      <th>x_int</th>\n",
       "      <th>x_categ</th>\n",
       "      <th>x_date</th>\n",
       "    </tr>\n",
       "  </thead>\n",
       "  <tbody>\n",
       "    <tr>\n",
       "      <td>0</td>\n",
       "      <td>-1.157318</td>\n",
       "      <td>0.983370</td>\n",
       "      <td>8</td>\n",
       "      <td>c1</td>\n",
       "      <td>2012-04-09</td>\n",
       "    </tr>\n",
       "    <tr>\n",
       "      <td>1</td>\n",
       "      <td>-1.633168</td>\n",
       "      <td>0.465495</td>\n",
       "      <td>7</td>\n",
       "      <td>c2</td>\n",
       "      <td>2004-03-20</td>\n",
       "    </tr>\n",
       "    <tr>\n",
       "      <td>2</td>\n",
       "      <td>-0.280790</td>\n",
       "      <td>0.966694</td>\n",
       "      <td>5</td>\n",
       "      <td>c2</td>\n",
       "      <td>2004-12-27</td>\n",
       "    </tr>\n",
       "    <tr>\n",
       "      <td>3</td>\n",
       "      <td>-1.018757</td>\n",
       "      <td>0.721530</td>\n",
       "      <td>2</td>\n",
       "      <td>c2</td>\n",
       "      <td>2009-09-20</td>\n",
       "    </tr>\n",
       "    <tr>\n",
       "      <td>4</td>\n",
       "      <td>-1.163511</td>\n",
       "      <td>0.376065</td>\n",
       "      <td>8</td>\n",
       "      <td>c1</td>\n",
       "      <td>2001-06-23</td>\n",
       "    </tr>\n",
       "  </tbody>\n",
       "</table>\n",
       "</div>"
      ],
      "text/plain": [
       "     x_norm    x_unif  x_int x_categ      x_date\n",
       "0 -1.157318  0.983370      8      c1  2012-04-09\n",
       "1 -1.633168  0.465495      7      c2  2004-03-20\n",
       "2 -0.280790  0.966694      5      c2  2004-12-27\n",
       "3 -1.018757  0.721530      2      c2  2009-09-20\n",
       "4 -1.163511  0.376065      8      c1  2001-06-23"
      ]
     },
     "execution_count": 34,
     "metadata": {},
     "output_type": "execute_result"
    }
   ],
   "source": [
    "# create test df with continuous, categorical, and date/time vars\n",
    "n = 10000\n",
    "x_norm = np.random.randn(n)\n",
    "x_unif = np.random.rand(n)\n",
    "x_int = np.random.randint(0, 10, size=n)\n",
    "x_categ = np.random.choice(['c1','c2','c3'], size=n, p=[0.2,0.3,0.5])\n",
    "x_date = np.random.permutation(\n",
    "    pd.date_range('2000-01-01', '2020-01-01', periods=n)\n",
    ")\n",
    "\n",
    "df = pd.DataFrame(\n",
    "    {'x_norm':x_norm, 'x_unif':x_unif, 'x_int': x_int, 'x_categ':x_categ, 'x_date':x_date}\n",
    ")\n",
    "\n",
    "# convert dt to str to make the data more realistic\n",
    "df['x_date'] = df['x_date'].apply(lambda x: x.strftime('%Y-%m-%d'))\n",
    "\n",
    "df.head()"
   ]
  },
  {
   "cell_type": "code",
   "execution_count": 35,
   "metadata": {
    "colab": {},
    "colab_type": "code",
    "id": "xU1pjkGek8uN"
   },
   "outputs": [
    {
     "data": {
      "text/plain": [
       "x_norm     100\n",
       "x_unif     100\n",
       "x_int      100\n",
       "x_categ     99\n",
       "x_date     100\n",
       "dtype: int64"
      ]
     },
     "execution_count": 35,
     "metadata": {},
     "output_type": "execute_result"
    }
   ],
   "source": [
    "# inject NAs\n",
    "n_na = int(len(df)/100)\n",
    "for c in df.columns:\n",
    "    df.loc[np.random.choice(np.arange(len(df)), n_na), c] = np.nan\n",
    "df.isnull().sum()"
   ]
  },
  {
   "cell_type": "code",
   "execution_count": 36,
   "metadata": {
    "colab": {},
    "colab_type": "code",
    "id": "ywhVB0tHlhcH"
   },
   "outputs": [],
   "source": [
    "cols = {\n",
    "    'x_norm':'float',\n",
    "    'x_unif':'float',\n",
    "    'x_int':'int',\n",
    "    'x_categ':'unord',\n",
    "    'x_date':'dt'\n",
    "}"
   ]
  },
  {
   "cell_type": "markdown",
   "metadata": {
    "colab_type": "text",
    "id": "V0GuqiVym81k"
   },
   "source": [
    "# Synthetic data generation"
   ]
  },
  {
   "cell_type": "code",
   "execution_count": 37,
   "metadata": {
    "colab": {},
    "colab_type": "code",
    "id": "UrQ2ABt4mNy4"
   },
   "outputs": [],
   "source": [
    "# dt na encoding\n",
    "df_orig = df.copy() # need df_orig for decoding dt nulls\n",
    "df = dt_null_encoder.encode(df, cols)"
   ]
  },
  {
   "cell_type": "code",
   "execution_count": 38,
   "metadata": {},
   "outputs": [
    {
     "data": {
      "text/plain": [
       "x_norm     100\n",
       "x_unif     100\n",
       "x_int      100\n",
       "x_categ     99\n",
       "x_date       0\n",
       "dtype: int64"
      ]
     },
     "execution_count": 38,
     "metadata": {},
     "output_type": "execute_result"
    }
   ],
   "source": [
    "df.isnull().sum()"
   ]
  },
  {
   "cell_type": "markdown",
   "metadata": {
    "colab_type": "text",
    "id": "BLT8A3jJi_SV"
   },
   "source": [
    "## Multivariate density estimation and sampling"
   ]
  },
  {
   "cell_type": "code",
   "execution_count": 39,
   "metadata": {
    "colab": {
     "base_uri": "https://localhost:8080/",
     "height": 104
    },
    "colab_type": "code",
    "id": "YKrxZg-rmyrL",
    "outputId": "a47938de-7497-4c00-8bb2-c352a5410d22"
   },
   "outputs": [
    {
     "data": {
      "text/plain": [
       "x_norm      0\n",
       "x_unif      0\n",
       "x_int       0\n",
       "x_categ    99\n",
       "x_date      0\n",
       "dtype: int64"
      ]
     },
     "execution_count": 39,
     "metadata": {},
     "output_type": "execute_result"
    }
   ],
   "source": [
    "# the multivariate approach cannot hadnle NAs in int and float columns.\n",
    "# impute NAs before calling syndat\n",
    "df_imp = df.copy()\n",
    "\n",
    "# replace NAs with 0 for now - can do \"better\", e.g., replace with median\n",
    "df_imp[['x_norm', 'x_unif', 'x_int']] = df_imp[['x_norm', 'x_unif', 'x_int']] .fillna(0)\n",
    "\n",
    "df_imp.isnull().sum()"
   ]
  },
  {
   "cell_type": "code",
   "execution_count": 40,
   "metadata": {
    "colab": {},
    "colab_type": "code",
    "id": "UGN4buKEi_SV"
   },
   "outputs": [],
   "source": [
    "sd = syndat.SynDat(df_imp, cols, multivariate=True, convert_dt=True)"
   ]
  },
  {
   "cell_type": "code",
   "execution_count": 42,
   "metadata": {
    "colab": {
     "base_uri": "https://localhost:8080/",
     "height": 265
    },
    "colab_type": "code",
    "id": "nJRQCJORi_SX",
    "outputId": "91910589-ef78-4759-eb0d-caa29cdb7c2f"
   },
   "outputs": [
    {
     "data": {
      "text/plain": [
       "<mpl_toolkits.mplot3d.art3d.Poly3DCollection at 0x7fcd81c10610>"
      ]
     },
     "execution_count": 42,
     "metadata": {},
     "output_type": "execute_result"
    },
    {
     "data": {
      "image/png": "[encoded data removed]",
      "text/plain": [
       "<Figure size 432x288 with 1 Axes>"
      ]
     },
     "metadata": {
      "needs_background": "light"
     },
     "output_type": "display_data"
    }
   ],
   "source": [
    "# plot mixture of continuous and categorical - CDF\n",
    "x=np.linspace(-3,3,100)\n",
    "y=np.linspace(0,4,100)\n",
    "X, Y = np.meshgrid(x,y)\n",
    "x_unif_samp = 0.5\n",
    "x_int_samp = np.median(sd.df['x_int'])\n",
    "x_date_samp = np.median(sd.df['x_date'])\n",
    "z = np.array([sd.kde.cdf([x,x_unif_samp,x_int_samp,y,x_date_samp]) for x,y in zip(np.ravel(X), np.ravel(Y))])\n",
    "Z = z.reshape(X.shape)\n",
    "\n",
    "ax = plt.axes(projection='3d')\n",
    "ax.plot_surface(X,Y,Z)"
   ]
  },
  {
   "cell_type": "markdown",
   "metadata": {
    "colab_type": "text",
    "id": "Jdhe0jaUqR_5"
   },
   "source": [
    "Note that the fourth category corresponds to NAs"
   ]
  },
  {
   "cell_type": "code",
   "execution_count": 50,
   "metadata": {
    "colab": {
     "base_uri": "https://localhost:8080/",
     "height": 265
    },
    "colab_type": "code",
    "id": "1m9tGUdxi_Sa",
    "outputId": "10298904-f4e4-4464-85ad-8260d0cf77d7"
   },
   "outputs": [
    {
     "data": {
      "text/plain": [
       "<mpl_toolkits.mplot3d.art3d.Poly3DCollection at 0x7fcd70643b10>"
      ]
     },
     "execution_count": 50,
     "metadata": {},
     "output_type": "execute_result"
    },
    {
     "data": {
      "image/png": "[encoded data removed]",
      "text/plain": [
       "<Figure size 432x288 with 1 Axes>"
      ]
     },
     "metadata": {
      "needs_background": "light"
     },
     "output_type": "display_data"
    }
   ],
   "source": [
    "# plot continuous vars - PDF\n",
    "x=np.linspace(-3,3,100)\n",
    "y=np.linspace(0,1,100)\n",
    "X, Y = np.meshgrid(x,y)\n",
    "x_int_samp = np.median(sd.df['x_int'])\n",
    "x_categ_samp = 2\n",
    "x_date_samp = np.median(sd.df['x_date'])\n",
    "z = np.array([sd.kde.pdf([x,y,x_int_samp,x_categ_samp,x_date_samp]) for x,y in zip(np.ravel(X), np.ravel(Y))])\n",
    "Z = z.reshape(X.shape)\n",
    "\n",
    "ax = plt.axes(projection='3d')\n",
    "ax.plot_surface(X,Y,Z)"
   ]
  },
  {
   "cell_type": "code",
   "execution_count": 51,
   "metadata": {
    "colab": {
     "base_uri": "https://localhost:8080/",
     "height": 35
    },
    "colab_type": "code",
    "id": "p5uSpkxLi_Sc",
    "outputId": "891f4d95-4ea7-4acc-9f26-50f3a3eeafe9"
   },
   "outputs": [],
   "source": [
    "# get synthetic data\n",
    "df_samp = sd.get_sample(n=1000)"
   ]
  },
  {
   "cell_type": "code",
   "execution_count": 52,
   "metadata": {
    "colab": {
     "base_uri": "https://localhost:8080/",
     "height": 202
    },
    "colab_type": "code",
    "id": "IjlKpB9_qg19",
    "outputId": "8f10f44b-d323-4419-b8e8-5854374ddf43"
   },
   "outputs": [
    {
     "data": {
      "text/html": [
       "<div>\n",
       "<style scoped>\n",
       "    .dataframe tbody tr th:only-of-type {\n",
       "        vertical-align: middle;\n",
       "    }\n",
       "\n",
       "    .dataframe tbody tr th {\n",
       "        vertical-align: top;\n",
       "    }\n",
       "\n",
       "    .dataframe thead th {\n",
       "        text-align: right;\n",
       "    }\n",
       "</style>\n",
       "<table border=\"1\" class=\"dataframe\">\n",
       "  <thead>\n",
       "    <tr style=\"text-align: right;\">\n",
       "      <th></th>\n",
       "      <th>x_norm</th>\n",
       "      <th>x_unif</th>\n",
       "      <th>x_int</th>\n",
       "      <th>x_categ</th>\n",
       "      <th>x_date</th>\n",
       "    </tr>\n",
       "  </thead>\n",
       "  <tbody>\n",
       "    <tr>\n",
       "      <td>0</td>\n",
       "      <td>3.234246</td>\n",
       "      <td>0.733594</td>\n",
       "      <td>5</td>\n",
       "      <td>c3</td>\n",
       "      <td>2005-04-14</td>\n",
       "    </tr>\n",
       "    <tr>\n",
       "      <td>1</td>\n",
       "      <td>1.093019</td>\n",
       "      <td>0.020953</td>\n",
       "      <td>2</td>\n",
       "      <td>c3</td>\n",
       "      <td>1988-03-24</td>\n",
       "    </tr>\n",
       "    <tr>\n",
       "      <td>2</td>\n",
       "      <td>0.734054</td>\n",
       "      <td>0.553931</td>\n",
       "      <td>4</td>\n",
       "      <td>c2</td>\n",
       "      <td>2001-09-06</td>\n",
       "    </tr>\n",
       "    <tr>\n",
       "      <td>3</td>\n",
       "      <td>2.643801</td>\n",
       "      <td>0.792003</td>\n",
       "      <td>3</td>\n",
       "      <td>c3</td>\n",
       "      <td>2012-08-05</td>\n",
       "    </tr>\n",
       "    <tr>\n",
       "      <td>4</td>\n",
       "      <td>0.616160</td>\n",
       "      <td>0.045633</td>\n",
       "      <td>4</td>\n",
       "      <td>c3</td>\n",
       "      <td>2003-05-24</td>\n",
       "    </tr>\n",
       "  </tbody>\n",
       "</table>\n",
       "</div>"
      ],
      "text/plain": [
       "     x_norm    x_unif  x_int x_categ      x_date\n",
       "0  3.234246  0.733594      5      c3  2005-04-14\n",
       "1  1.093019  0.020953      2      c3  1988-03-24\n",
       "2  0.734054  0.553931      4      c2  2001-09-06\n",
       "3  2.643801  0.792003      3      c3  2012-08-05\n",
       "4  0.616160  0.045633      4      c3  2003-05-24"
      ]
     },
     "execution_count": 52,
     "metadata": {},
     "output_type": "execute_result"
    }
   ],
   "source": [
    "df_samp.head()"
   ]
  },
  {
   "cell_type": "code",
   "execution_count": 53,
   "metadata": {
    "colab": {
     "base_uri": "https://localhost:8080/",
     "height": 283
    },
    "colab_type": "code",
    "id": "0CS9c2Koi_Sh",
    "outputId": "70b6d773-67f5-4d2d-b4a2-d13ae6c7afaf"
   },
   "outputs": [
    {
     "data": {
      "text/plain": [
       "<matplotlib.collections.PathCollection at 0x7fcdc1257cd0>"
      ]
     },
     "execution_count": 53,
     "metadata": {},
     "output_type": "execute_result"
    },
    {
     "data": {
      "image/png": "[encoded data removed]",
      "text/plain": [
       "<Figure size 432x288 with 1 Axes>"
      ]
     },
     "metadata": {
      "needs_background": "light"
     },
     "output_type": "display_data"
    }
   ],
   "source": [
    "# plot sampled data - normal vs categorical\n",
    "ax = plt.axes()\n",
    "ax.scatter(df_samp['x_norm'],df_samp['x_categ'])"
   ]
  },
  {
   "cell_type": "markdown",
   "metadata": {
    "colab_type": "text",
    "id": "H-fnaxSfqoXJ"
   },
   "source": [
    "Note the addition of the nan category. If desired, NAs can be imputed before calling syndat"
   ]
  },
  {
   "cell_type": "code",
   "execution_count": 54,
   "metadata": {
    "colab": {
     "base_uri": "https://localhost:8080/",
     "height": 283
    },
    "colab_type": "code",
    "id": "rclka1izi_Sj",
    "outputId": "e351c393-2eca-4bac-e492-da2ff651b2fc"
   },
   "outputs": [
    {
     "data": {
      "text/plain": [
       "<matplotlib.collections.PathCollection at 0x7fcdc12495d0>"
      ]
     },
     "execution_count": 54,
     "metadata": {},
     "output_type": "execute_result"
    },
    {
     "data": {
      "image/png": "[encoded data removed]",
      "text/plain": [
       "<Figure size 432x288 with 1 Axes>"
      ]
     },
     "metadata": {
      "needs_background": "light"
     },
     "output_type": "display_data"
    }
   ],
   "source": [
    "# plot sampled data - normal vs uniform\n",
    "ax = plt.axes()\n",
    "ax.scatter(df_samp['x_norm'],df_samp['x_unif'])"
   ]
  },
  {
   "cell_type": "code",
   "execution_count": 56,
   "metadata": {},
   "outputs": [
    {
     "data": {
      "text/plain": [
       "<matplotlib.collections.PathCollection at 0x7fcdc120fc90>"
      ]
     },
     "execution_count": 56,
     "metadata": {},
     "output_type": "execute_result"
    },
    {
     "data": {
      "image/png": "[encoded data removed]",
      "text/plain": [
       "<Figure size 432x288 with 1 Axes>"
      ]
     },
     "metadata": {
      "needs_background": "light"
     },
     "output_type": "display_data"
    }
   ],
   "source": [
    "# plot sampled data - normal vs int uniform\n",
    "ax = plt.axes()\n",
    "ax.scatter(df_samp['x_norm'],df_samp['x_int'])"
   ]
  },
  {
   "cell_type": "markdown",
   "metadata": {
    "colab_type": "text",
    "id": "QvMb0SHSi_Sn"
   },
   "source": [
    "## Univariate density estimation and sampling"
   ]
  },
  {
   "cell_type": "code",
   "execution_count": 71,
   "metadata": {
    "colab": {
     "base_uri": "https://localhost:8080/",
     "height": 104
    },
    "colab_type": "code",
    "id": "VQrySYjVpQ4B",
    "outputId": "de541688-d6cc-430a-db6e-a3895b4b6858"
   },
   "outputs": [
    {
     "data": {
      "text/plain": [
       "x_norm     100\n",
       "x_unif     100\n",
       "x_int        0\n",
       "x_categ     99\n",
       "x_date       0\n",
       "dtype: int64"
      ]
     },
     "execution_count": 71,
     "metadata": {},
     "output_type": "execute_result"
    }
   ],
   "source": [
    "# unlike the multivariate approach, the univariate approach\n",
    "# does not break if there are NAs in float cols\n",
    "# the UV KDE can also handle NAs in int columns, but sampling\n",
    "# breaks since int type does not support nan\n",
    "df.isnull().sum()"
   ]
  },
  {
   "cell_type": "code",
   "execution_count": 72,
   "metadata": {},
   "outputs": [],
   "source": [
    "df['x_int'] = df['x_int'].fillna(0)"
   ]
  },
  {
   "cell_type": "code",
   "execution_count": 73,
   "metadata": {
    "colab": {
     "base_uri": "https://localhost:8080/",
     "height": 87
    },
    "colab_type": "code",
    "id": "Exe5Phkyi_Sp",
    "outputId": "c2cf1ae6-0f2f-4a21-cf67-8afe57edaf0f"
   },
   "outputs": [
    {
     "name": "stderr",
     "output_type": "stream",
     "text": [
      "/Users/mohammad.kayvanrad/anaconda3/lib/python3.7/site-packages/statsmodels/nonparametric/kde.py:547: RuntimeWarning: invalid value encountered in greater\n",
      "  x = x[np.logical_and(x > clip[0], x < clip[1])]\n",
      "/Users/mohammad.kayvanrad/anaconda3/lib/python3.7/site-packages/statsmodels/nonparametric/kde.py:547: RuntimeWarning: invalid value encountered in less\n",
      "  x = x[np.logical_and(x > clip[0], x < clip[1])]\n"
     ]
    }
   ],
   "source": [
    "sd = syndat.SynDat(df, cols, multivariate=False, convert_dt=True)"
   ]
  },
  {
   "cell_type": "code",
   "execution_count": 74,
   "metadata": {
    "colab": {
     "base_uri": "https://localhost:8080/",
     "height": 202
    },
    "colab_type": "code",
    "id": "FLqvvm0qi_Sr",
    "outputId": "171d527b-d401-4fbe-9cd1-068c7cb4984a"
   },
   "outputs": [
    {
     "data": {
      "text/html": [
       "<div>\n",
       "<style scoped>\n",
       "    .dataframe tbody tr th:only-of-type {\n",
       "        vertical-align: middle;\n",
       "    }\n",
       "\n",
       "    .dataframe tbody tr th {\n",
       "        vertical-align: top;\n",
       "    }\n",
       "\n",
       "    .dataframe thead th {\n",
       "        text-align: right;\n",
       "    }\n",
       "</style>\n",
       "<table border=\"1\" class=\"dataframe\">\n",
       "  <thead>\n",
       "    <tr style=\"text-align: right;\">\n",
       "      <th></th>\n",
       "      <th>x_norm</th>\n",
       "      <th>x_unif</th>\n",
       "      <th>x_int</th>\n",
       "      <th>x_categ</th>\n",
       "      <th>x_date</th>\n",
       "    </tr>\n",
       "  </thead>\n",
       "  <tbody>\n",
       "    <tr>\n",
       "      <td>0</td>\n",
       "      <td>2.403762</td>\n",
       "      <td>0.380342</td>\n",
       "      <td>5</td>\n",
       "      <td>c2</td>\n",
       "      <td>2012-11-01</td>\n",
       "    </tr>\n",
       "    <tr>\n",
       "      <td>1</td>\n",
       "      <td>-2.740726</td>\n",
       "      <td>0.538691</td>\n",
       "      <td>1</td>\n",
       "      <td>c3</td>\n",
       "      <td>2019-09-03</td>\n",
       "    </tr>\n",
       "    <tr>\n",
       "      <td>2</td>\n",
       "      <td>0.125947</td>\n",
       "      <td>0.549280</td>\n",
       "      <td>2</td>\n",
       "      <td>c1</td>\n",
       "      <td>2005-12-29</td>\n",
       "    </tr>\n",
       "    <tr>\n",
       "      <td>3</td>\n",
       "      <td>-0.469614</td>\n",
       "      <td>0.941132</td>\n",
       "      <td>4</td>\n",
       "      <td>c2</td>\n",
       "      <td>2008-01-10</td>\n",
       "    </tr>\n",
       "    <tr>\n",
       "      <td>4</td>\n",
       "      <td>-0.419283</td>\n",
       "      <td>0.130903</td>\n",
       "      <td>0</td>\n",
       "      <td>c2</td>\n",
       "      <td>2000-06-30</td>\n",
       "    </tr>\n",
       "  </tbody>\n",
       "</table>\n",
       "</div>"
      ],
      "text/plain": [
       "     x_norm    x_unif  x_int x_categ      x_date\n",
       "0  2.403762  0.380342      5      c2  2012-11-01\n",
       "1 -2.740726  0.538691      1      c3  2019-09-03\n",
       "2  0.125947  0.549280      2      c1  2005-12-29\n",
       "3 -0.469614  0.941132      4      c2  2008-01-10\n",
       "4 -0.419283  0.130903      0      c2  2000-06-30"
      ]
     },
     "execution_count": 74,
     "metadata": {},
     "output_type": "execute_result"
    }
   ],
   "source": [
    "df_samp = sd.get_sample(n=1000)\n",
    "df_samp.head()"
   ]
  },
  {
   "cell_type": "code",
   "execution_count": 75,
   "metadata": {},
   "outputs": [
    {
     "data": {
      "text/plain": [
       "x_norm      7\n",
       "x_unif     12\n",
       "x_int       0\n",
       "x_categ     0\n",
       "x_date      0\n",
       "dtype: int64"
      ]
     },
     "execution_count": 75,
     "metadata": {},
     "output_type": "execute_result"
    }
   ],
   "source": [
    "df_samp.isnull().sum()"
   ]
  },
  {
   "cell_type": "code",
   "execution_count": 76,
   "metadata": {
    "colab": {
     "base_uri": "https://localhost:8080/",
     "height": 283
    },
    "colab_type": "code",
    "id": "c_MjYmOMi_St",
    "outputId": "734fd1ca-e52a-44cd-aed1-0018add137ad"
   },
   "outputs": [
    {
     "data": {
      "text/plain": [
       "<matplotlib.collections.PathCollection at 0x7fcdc120e450>"
      ]
     },
     "execution_count": 76,
     "metadata": {},
     "output_type": "execute_result"
    },
    {
     "data": {
      "image/png": "[encoded data removed]",
      "text/plain": [
       "<Figure size 432x288 with 1 Axes>"
      ]
     },
     "metadata": {
      "needs_background": "light"
     },
     "output_type": "display_data"
    }
   ],
   "source": [
    "# plot sampled data - normal vs categorical\n",
    "ax = plt.axes()\n",
    "ax.scatter(df_samp['x_norm'],df_samp['x_categ'])"
   ]
  },
  {
   "cell_type": "code",
   "execution_count": 77,
   "metadata": {
    "colab": {
     "base_uri": "https://localhost:8080/",
     "height": 283
    },
    "colab_type": "code",
    "id": "ru8-TukMi_Su",
    "outputId": "83d82659-2700-47e8-88b6-c0d2d972c85c"
   },
   "outputs": [
    {
     "data": {
      "text/plain": [
       "<matplotlib.collections.PathCollection at 0x7fcd83efd2d0>"
      ]
     },
     "execution_count": 77,
     "metadata": {},
     "output_type": "execute_result"
    },
    {
     "data": {
      "image/png": "[encoded data removed]",
      "text/plain": [
       "<Figure size 432x288 with 1 Axes>"
      ]
     },
     "metadata": {
      "needs_background": "light"
     },
     "output_type": "display_data"
    }
   ],
   "source": [
    "# plot sampled data - normal vs uniform\n",
    "ax = plt.axes()\n",
    "ax.scatter(df_samp['x_norm'],df_samp['x_unif'])"
   ]
  },
  {
   "cell_type": "markdown",
   "metadata": {
    "colab_type": "text",
    "id": "YBsOFYWAi_Sw"
   },
   "source": [
    "# Encoding categorical variables (e.g., for masking the real data)"
   ]
  },
  {
   "cell_type": "code",
   "execution_count": 78,
   "metadata": {
    "colab": {
     "base_uri": "https://localhost:8080/",
     "height": 202
    },
    "colab_type": "code",
    "id": "lPTFuzqLi_Sx",
    "outputId": "2dcfd2f3-006b-4b9b-c635-6089fa57c9c7"
   },
   "outputs": [
    {
     "data": {
      "text/html": [
       "<div>\n",
       "<style scoped>\n",
       "    .dataframe tbody tr th:only-of-type {\n",
       "        vertical-align: middle;\n",
       "    }\n",
       "\n",
       "    .dataframe tbody tr th {\n",
       "        vertical-align: top;\n",
       "    }\n",
       "\n",
       "    .dataframe thead th {\n",
       "        text-align: right;\n",
       "    }\n",
       "</style>\n",
       "<table border=\"1\" class=\"dataframe\">\n",
       "  <thead>\n",
       "    <tr style=\"text-align: right;\">\n",
       "      <th></th>\n",
       "      <th>x_norm</th>\n",
       "      <th>x_unif</th>\n",
       "      <th>x_int</th>\n",
       "      <th>x_categ</th>\n",
       "      <th>x_date</th>\n",
       "    </tr>\n",
       "  </thead>\n",
       "  <tbody>\n",
       "    <tr>\n",
       "      <td>0</td>\n",
       "      <td>2.403762</td>\n",
       "      <td>0.380342</td>\n",
       "      <td>5</td>\n",
       "      <td>c2</td>\n",
       "      <td>2012-11-01</td>\n",
       "    </tr>\n",
       "    <tr>\n",
       "      <td>1</td>\n",
       "      <td>-2.740726</td>\n",
       "      <td>0.538691</td>\n",
       "      <td>1</td>\n",
       "      <td>c3</td>\n",
       "      <td>2019-09-03</td>\n",
       "    </tr>\n",
       "    <tr>\n",
       "      <td>2</td>\n",
       "      <td>0.125947</td>\n",
       "      <td>0.549280</td>\n",
       "      <td>2</td>\n",
       "      <td>c1</td>\n",
       "      <td>2005-12-29</td>\n",
       "    </tr>\n",
       "    <tr>\n",
       "      <td>3</td>\n",
       "      <td>-0.469614</td>\n",
       "      <td>0.941132</td>\n",
       "      <td>4</td>\n",
       "      <td>c2</td>\n",
       "      <td>2008-01-10</td>\n",
       "    </tr>\n",
       "    <tr>\n",
       "      <td>4</td>\n",
       "      <td>-0.419283</td>\n",
       "      <td>0.130903</td>\n",
       "      <td>0</td>\n",
       "      <td>c2</td>\n",
       "      <td>2000-06-30</td>\n",
       "    </tr>\n",
       "  </tbody>\n",
       "</table>\n",
       "</div>"
      ],
      "text/plain": [
       "     x_norm    x_unif  x_int x_categ      x_date\n",
       "0  2.403762  0.380342      5      c2  2012-11-01\n",
       "1 -2.740726  0.538691      1      c3  2019-09-03\n",
       "2  0.125947  0.549280      2      c1  2005-12-29\n",
       "3 -0.469614  0.941132      4      c2  2008-01-10\n",
       "4 -0.419283  0.130903      0      c2  2000-06-30"
      ]
     },
     "execution_count": 78,
     "metadata": {},
     "output_type": "execute_result"
    }
   ],
   "source": [
    "df_samp.head()"
   ]
  },
  {
   "cell_type": "code",
   "execution_count": 79,
   "metadata": {
    "colab": {
     "base_uri": "https://localhost:8080/",
     "height": 202
    },
    "colab_type": "code",
    "id": "SWPgAHyPi_Sz",
    "outputId": "e823ef72-a654-4794-910e-bce9fb44821e"
   },
   "outputs": [
    {
     "data": {
      "text/html": [
       "<div>\n",
       "<style scoped>\n",
       "    .dataframe tbody tr th:only-of-type {\n",
       "        vertical-align: middle;\n",
       "    }\n",
       "\n",
       "    .dataframe tbody tr th {\n",
       "        vertical-align: top;\n",
       "    }\n",
       "\n",
       "    .dataframe thead th {\n",
       "        text-align: right;\n",
       "    }\n",
       "</style>\n",
       "<table border=\"1\" class=\"dataframe\">\n",
       "  <thead>\n",
       "    <tr style=\"text-align: right;\">\n",
       "      <th></th>\n",
       "      <th>x_norm</th>\n",
       "      <th>x_unif</th>\n",
       "      <th>x_int</th>\n",
       "      <th>x_categ</th>\n",
       "      <th>x_date</th>\n",
       "    </tr>\n",
       "  </thead>\n",
       "  <tbody>\n",
       "    <tr>\n",
       "      <td>0</td>\n",
       "      <td>2.403762</td>\n",
       "      <td>0.380342</td>\n",
       "      <td>5</td>\n",
       "      <td>1</td>\n",
       "      <td>2012-11-01</td>\n",
       "    </tr>\n",
       "    <tr>\n",
       "      <td>1</td>\n",
       "      <td>-2.740726</td>\n",
       "      <td>0.538691</td>\n",
       "      <td>1</td>\n",
       "      <td>2</td>\n",
       "      <td>2019-09-03</td>\n",
       "    </tr>\n",
       "    <tr>\n",
       "      <td>2</td>\n",
       "      <td>0.125947</td>\n",
       "      <td>0.549280</td>\n",
       "      <td>2</td>\n",
       "      <td>0</td>\n",
       "      <td>2005-12-29</td>\n",
       "    </tr>\n",
       "    <tr>\n",
       "      <td>3</td>\n",
       "      <td>-0.469614</td>\n",
       "      <td>0.941132</td>\n",
       "      <td>4</td>\n",
       "      <td>1</td>\n",
       "      <td>2008-01-10</td>\n",
       "    </tr>\n",
       "    <tr>\n",
       "      <td>4</td>\n",
       "      <td>-0.419283</td>\n",
       "      <td>0.130903</td>\n",
       "      <td>0</td>\n",
       "      <td>1</td>\n",
       "      <td>2000-06-30</td>\n",
       "    </tr>\n",
       "  </tbody>\n",
       "</table>\n",
       "</div>"
      ],
      "text/plain": [
       "     x_norm    x_unif  x_int x_categ      x_date\n",
       "0  2.403762  0.380342      5       1  2012-11-01\n",
       "1 -2.740726  0.538691      1       2  2019-09-03\n",
       "2  0.125947  0.549280      2       0  2005-12-29\n",
       "3 -0.469614  0.941132      4       1  2008-01-10\n",
       "4 -0.419283  0.130903      0       1  2000-06-30"
      ]
     },
     "execution_count": 79,
     "metadata": {},
     "output_type": "execute_result"
    }
   ],
   "source": [
    "import label_encoder\n",
    "\n",
    "le_grp_dict = {\n",
    "    'categ': [df_samp['x_categ']]\n",
    "}\n",
    "\n",
    "le_dict = {\n",
    "    'categ': ['x_categ']\n",
    "}\n",
    "\n",
    "le = label_encoder.LabelEncoder(le_grp_dict)\n",
    "df_samp = le.encode(df_samp, le_dict)\n",
    "df_samp.head()"
   ]
  },
  {
   "cell_type": "code",
   "execution_count": 80,
   "metadata": {},
   "outputs": [
    {
     "data": {
      "text/html": [
       "<div>\n",
       "<style scoped>\n",
       "    .dataframe tbody tr th:only-of-type {\n",
       "        vertical-align: middle;\n",
       "    }\n",
       "\n",
       "    .dataframe tbody tr th {\n",
       "        vertical-align: top;\n",
       "    }\n",
       "\n",
       "    .dataframe thead th {\n",
       "        text-align: right;\n",
       "    }\n",
       "</style>\n",
       "<table border=\"1\" class=\"dataframe\">\n",
       "  <thead>\n",
       "    <tr style=\"text-align: right;\">\n",
       "      <th></th>\n",
       "      <th>x_norm</th>\n",
       "      <th>x_unif</th>\n",
       "      <th>x_int</th>\n",
       "      <th>x_categ</th>\n",
       "      <th>x_date</th>\n",
       "    </tr>\n",
       "  </thead>\n",
       "  <tbody>\n",
       "    <tr>\n",
       "      <td>0</td>\n",
       "      <td>2.403762</td>\n",
       "      <td>0.380342</td>\n",
       "      <td>5</td>\n",
       "      <td>cat1</td>\n",
       "      <td>2012-11-01</td>\n",
       "    </tr>\n",
       "    <tr>\n",
       "      <td>1</td>\n",
       "      <td>-2.740726</td>\n",
       "      <td>0.538691</td>\n",
       "      <td>1</td>\n",
       "      <td>cat2</td>\n",
       "      <td>2019-09-03</td>\n",
       "    </tr>\n",
       "    <tr>\n",
       "      <td>2</td>\n",
       "      <td>0.125947</td>\n",
       "      <td>0.549280</td>\n",
       "      <td>2</td>\n",
       "      <td>cat0</td>\n",
       "      <td>2005-12-29</td>\n",
       "    </tr>\n",
       "    <tr>\n",
       "      <td>3</td>\n",
       "      <td>-0.469614</td>\n",
       "      <td>0.941132</td>\n",
       "      <td>4</td>\n",
       "      <td>cat1</td>\n",
       "      <td>2008-01-10</td>\n",
       "    </tr>\n",
       "    <tr>\n",
       "      <td>4</td>\n",
       "      <td>-0.419283</td>\n",
       "      <td>0.130903</td>\n",
       "      <td>0</td>\n",
       "      <td>cat1</td>\n",
       "      <td>2000-06-30</td>\n",
       "    </tr>\n",
       "  </tbody>\n",
       "</table>\n",
       "</div>"
      ],
      "text/plain": [
       "     x_norm    x_unif  x_int x_categ      x_date\n",
       "0  2.403762  0.380342      5    cat1  2012-11-01\n",
       "1 -2.740726  0.538691      1    cat2  2019-09-03\n",
       "2  0.125947  0.549280      2    cat0  2005-12-29\n",
       "3 -0.469614  0.941132      4    cat1  2008-01-10\n",
       "4 -0.419283  0.130903      0    cat1  2000-06-30"
      ]
     },
     "execution_count": 80,
     "metadata": {},
     "output_type": "execute_result"
    }
   ],
   "source": [
    "# adding prefix to the encoded categories\n",
    "prefix_dict = {\n",
    "    'x_categ': 'cat'\n",
    "}\n",
    "\n",
    "df_samp = le.add_prefix(df_samp, prefix_dict)\n",
    "\n",
    "df_samp.head()"
   ]
  },
  {
   "cell_type": "code",
   "execution_count": null,
   "metadata": {},
   "outputs": [],
   "source": []
  },
  {
   "cell_type": "code",
   "execution_count": null,
   "metadata": {},
   "outputs": [],
   "source": []
  }
 ],
 "metadata": {
  "colab": {
   "name": "syndat_usage_example.ipynb",
   "provenance": []
  },
  "kernelspec": {
   "display_name": "Python 3",
   "language": "python",
   "name": "python3"
  },
  "language_info": {
   "codemirror_mode": {
    "name": "ipython",
    "version": 3
   },
   "file_extension": ".py",
   "mimetype": "text/x-python",
   "name": "python",
   "nbconvert_exporter": "python",
   "pygments_lexer": "ipython3",
   "version": "3.7.4"
  }
 },
 "nbformat": 4,
 "nbformat_minor": 4
}
