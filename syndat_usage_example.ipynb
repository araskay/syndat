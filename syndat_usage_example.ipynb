{
 "cells": [
  {
   "cell_type": "code",
   "execution_count": 1,
   "metadata": {
    "colab": {},
    "colab_type": "code",
    "id": "lqR-qN8_i_SP"
   },
   "outputs": [],
   "source": [
    "import numpy as np\n",
    "import pandas as pd\n",
    "\n",
    "import syndat\n",
    "import dt_null_encoder\n",
    "\n",
    "%matplotlib inline\n",
    "import matplotlib.pyplot as plt\n",
    "from mpl_toolkits.mplot3d import Axes3D"
   ]
  },
  {
   "cell_type": "code",
   "execution_count": 2,
   "metadata": {
    "colab": {
     "base_uri": "https://localhost:8080/",
     "height": 202
    },
    "colab_type": "code",
    "id": "ujHtG8rTi_SS",
    "outputId": "44f00f65-af7d-4bc7-c6d4-592afa42ea9a"
   },
   "outputs": [
    {
     "data": {
      "text/html": [
       "<div>\n",
       "<style scoped>\n",
       "    .dataframe tbody tr th:only-of-type {\n",
       "        vertical-align: middle;\n",
       "    }\n",
       "\n",
       "    .dataframe tbody tr th {\n",
       "        vertical-align: top;\n",
       "    }\n",
       "\n",
       "    .dataframe thead th {\n",
       "        text-align: right;\n",
       "    }\n",
       "</style>\n",
       "<table border=\"1\" class=\"dataframe\">\n",
       "  <thead>\n",
       "    <tr style=\"text-align: right;\">\n",
       "      <th></th>\n",
       "      <th>x_norm</th>\n",
       "      <th>x_unif</th>\n",
       "      <th>x_categ</th>\n",
       "      <th>x_date</th>\n",
       "    </tr>\n",
       "  </thead>\n",
       "  <tbody>\n",
       "    <tr>\n",
       "      <td>0</td>\n",
       "      <td>-0.217438</td>\n",
       "      <td>0.977136</td>\n",
       "      <td>c3</td>\n",
       "      <td>2000-07-06</td>\n",
       "    </tr>\n",
       "    <tr>\n",
       "      <td>1</td>\n",
       "      <td>-0.175035</td>\n",
       "      <td>0.135394</td>\n",
       "      <td>c3</td>\n",
       "      <td>2014-03-27</td>\n",
       "    </tr>\n",
       "    <tr>\n",
       "      <td>2</td>\n",
       "      <td>1.520211</td>\n",
       "      <td>0.520152</td>\n",
       "      <td>c3</td>\n",
       "      <td>2007-05-19</td>\n",
       "    </tr>\n",
       "    <tr>\n",
       "      <td>3</td>\n",
       "      <td>0.726784</td>\n",
       "      <td>0.130162</td>\n",
       "      <td>c3</td>\n",
       "      <td>2008-10-09</td>\n",
       "    </tr>\n",
       "    <tr>\n",
       "      <td>4</td>\n",
       "      <td>-0.102943</td>\n",
       "      <td>0.023555</td>\n",
       "      <td>c2</td>\n",
       "      <td>2000-10-01</td>\n",
       "    </tr>\n",
       "  </tbody>\n",
       "</table>\n",
       "</div>"
      ],
      "text/plain": [
       "     x_norm    x_unif x_categ      x_date\n",
       "0 -0.217438  0.977136      c3  2000-07-06\n",
       "1 -0.175035  0.135394      c3  2014-03-27\n",
       "2  1.520211  0.520152      c3  2007-05-19\n",
       "3  0.726784  0.130162      c3  2008-10-09\n",
       "4 -0.102943  0.023555      c2  2000-10-01"
      ]
     },
     "execution_count": 2,
     "metadata": {},
     "output_type": "execute_result"
    }
   ],
   "source": [
    "# create test df with continuous, categorical, and date/time vars\n",
    "n = 10000\n",
    "x_norm = np.random.randn(n)\n",
    "x_unif = np.random.rand(n)\n",
    "x_categ = np.random.choice(['c1','c2','c3'], size=n, p=[0.2,0.3,0.5])\n",
    "x_date = np.random.permutation(\n",
    "    pd.date_range('2000-01-01', '2020-01-01', periods=n)\n",
    ")\n",
    "\n",
    "df = pd.DataFrame(\n",
    "    {'x_norm':x_norm, 'x_unif':x_unif, 'x_categ':x_categ, 'x_date':x_date}\n",
    ")\n",
    "\n",
    "# convert dt to str to make the data more realistic\n",
    "df['x_date'] = df['x_date'].apply(lambda x: x.strftime('%Y-%m-%d'))\n",
    "\n",
    "df.head()"
   ]
  },
  {
   "cell_type": "code",
   "execution_count": 3,
   "metadata": {
    "colab": {},
    "colab_type": "code",
    "id": "xU1pjkGek8uN"
   },
   "outputs": [
    {
     "data": {
      "text/plain": [
       "x_norm     100\n",
       "x_unif     100\n",
       "x_categ    100\n",
       "x_date     100\n",
       "dtype: int64"
      ]
     },
     "execution_count": 3,
     "metadata": {},
     "output_type": "execute_result"
    }
   ],
   "source": [
    "# inject NAs\n",
    "n_na = int(len(df)/100)\n",
    "for c in df.columns:\n",
    "    df.loc[np.random.choice(np.arange(len(df)), n_na), c] = np.nan\n",
    "df.isnull().sum()"
   ]
  },
  {
   "cell_type": "code",
   "execution_count": 4,
   "metadata": {
    "colab": {},
    "colab_type": "code",
    "id": "ywhVB0tHlhcH"
   },
   "outputs": [],
   "source": [
    "cols = {'x_norm':'float', 'x_unif':'float', 'x_categ':'unord', 'x_date':'dt'}\n",
    "# allowed types: quant, categ, ord, dt"
   ]
  },
  {
   "cell_type": "markdown",
   "metadata": {
    "colab_type": "text",
    "id": "V0GuqiVym81k"
   },
   "source": [
    "# Synthetic data generation"
   ]
  },
  {
   "cell_type": "code",
   "execution_count": 5,
   "metadata": {
    "colab": {},
    "colab_type": "code",
    "id": "UrQ2ABt4mNy4"
   },
   "outputs": [],
   "source": [
    "# dt na encoding\n",
    "df_orig = df.copy() # need df_orig for decoding dt nulls\n",
    "df = dt_null_encoder.encode(df, cols)"
   ]
  },
  {
   "cell_type": "code",
   "execution_count": 6,
   "metadata": {},
   "outputs": [
    {
     "data": {
      "text/plain": [
       "x_norm     100\n",
       "x_unif     100\n",
       "x_categ    100\n",
       "x_date       0\n",
       "dtype: int64"
      ]
     },
     "execution_count": 6,
     "metadata": {},
     "output_type": "execute_result"
    }
   ],
   "source": [
    "df.isnull().sum()"
   ]
  },
  {
   "cell_type": "markdown",
   "metadata": {
    "colab_type": "text",
    "id": "BLT8A3jJi_SV"
   },
   "source": [
    "## Multivariate density estimation and sampling"
   ]
  },
  {
   "cell_type": "code",
   "execution_count": 7,
   "metadata": {
    "colab": {
     "base_uri": "https://localhost:8080/",
     "height": 104
    },
    "colab_type": "code",
    "id": "YKrxZg-rmyrL",
    "outputId": "a47938de-7497-4c00-8bb2-c352a5410d22"
   },
   "outputs": [
    {
     "data": {
      "text/plain": [
       "x_norm       0\n",
       "x_unif       0\n",
       "x_categ    100\n",
       "x_date       0\n",
       "dtype: int64"
      ]
     },
     "execution_count": 7,
     "metadata": {},
     "output_type": "execute_result"
    }
   ],
   "source": [
    "# the multivariate approach cannot hadnle NAs in int and float columns.\n",
    "# impute NAs before calling syndat\n",
    "df_imp = df.copy()\n",
    "\n",
    "# replace NAs with 0 for now - can do \"better\", e.g., replace with median\n",
    "df_imp[['x_norm','x_unif']] = df_imp[['x_norm','x_unif']] .fillna(0)\n",
    "\n",
    "df_imp.isnull().sum()"
   ]
  },
  {
   "cell_type": "code",
   "execution_count": 8,
   "metadata": {
    "colab": {},
    "colab_type": "code",
    "id": "UGN4buKEi_SV"
   },
   "outputs": [],
   "source": [
    "sd = syndat.SynDat(df_imp, cols, multivariate=True, convert_dt=True)"
   ]
  },
  {
   "cell_type": "code",
   "execution_count": 9,
   "metadata": {
    "colab": {
     "base_uri": "https://localhost:8080/",
     "height": 265
    },
    "colab_type": "code",
    "id": "nJRQCJORi_SX",
    "outputId": "91910589-ef78-4759-eb0d-caa29cdb7c2f"
   },
   "outputs": [
    {
     "data": {
      "text/plain": [
       "<mpl_toolkits.mplot3d.art3d.Poly3DCollection at 0x7fcdb117e310>"
      ]
     },
     "execution_count": 9,
     "metadata": {},
     "output_type": "execute_result"
    },
    {
     "data": {
      "image/png": "[encoded data removed]",
      "text/plain": [
       "<Figure size 432x288 with 1 Axes>"
      ]
     },
     "metadata": {
      "needs_background": "light"
     },
     "output_type": "display_data"
    }
   ],
   "source": [
    "# plot mixture of continuous and categorical - CDF\n",
    "x=np.linspace(-3,3,100)\n",
    "y=np.linspace(0,4,100)\n",
    "X, Y = np.meshgrid(x,y)\n",
    "x_unif_samp = 0.5\n",
    "x_date_samp = np.median(sd.df['x_date'])\n",
    "z = np.array([sd.kde.cdf([x,x_unif_samp,y,x_date_samp]) for x,y in zip(np.ravel(X), np.ravel(Y))])\n",
    "Z = z.reshape(X.shape)\n",
    "\n",
    "ax = plt.axes(projection='3d')\n",
    "ax.plot_surface(X,Y,Z)"
   ]
  },
  {
   "cell_type": "markdown",
   "metadata": {
    "colab_type": "text",
    "id": "Jdhe0jaUqR_5"
   },
   "source": [
    "Note that the fourth category corresponds to NAs"
   ]
  },
  {
   "cell_type": "code",
   "execution_count": 10,
   "metadata": {
    "colab": {
     "base_uri": "https://localhost:8080/",
     "height": 265
    },
    "colab_type": "code",
    "id": "1m9tGUdxi_Sa",
    "outputId": "10298904-f4e4-4464-85ad-8260d0cf77d7"
   },
   "outputs": [
    {
     "data": {
      "text/plain": [
       "<mpl_toolkits.mplot3d.art3d.Poly3DCollection at 0x7fcdb1331b10>"
      ]
     },
     "execution_count": 10,
     "metadata": {},
     "output_type": "execute_result"
    },
    {
     "data": {
      "image/png": "[encoded data removed]",
      "text/plain": [
       "<Figure size 432x288 with 1 Axes>"
      ]
     },
     "metadata": {
      "needs_background": "light"
     },
     "output_type": "display_data"
    }
   ],
   "source": [
    "# plot continuous vars - PDF\n",
    "x=np.linspace(-3,3,100)\n",
    "y=np.linspace(0,1,100)\n",
    "X, Y = np.meshgrid(x,y)\n",
    "\n",
    "x_categ_samp = 2\n",
    "x_date_samp = np.median(sd.df['x_date'])\n",
    "z = np.array([sd.kde.pdf([x,y,x_categ_samp,x_date_samp]) for x,y in zip(np.ravel(X), np.ravel(Y))])\n",
    "Z = z.reshape(X.shape)\n",
    "\n",
    "ax = plt.axes(projection='3d')\n",
    "ax.plot_surface(X,Y,Z)"
   ]
  },
  {
   "cell_type": "code",
   "execution_count": 11,
   "metadata": {
    "colab": {
     "base_uri": "https://localhost:8080/",
     "height": 35
    },
    "colab_type": "code",
    "id": "p5uSpkxLi_Sc",
    "outputId": "891f4d95-4ea7-4acc-9f26-50f3a3eeafe9"
   },
   "outputs": [],
   "source": [
    "# get synthetic data\n",
    "df_samp = sd.get_sample(n=1000)"
   ]
  },
  {
   "cell_type": "code",
   "execution_count": 12,
   "metadata": {
    "colab": {
     "base_uri": "https://localhost:8080/",
     "height": 202
    },
    "colab_type": "code",
    "id": "IjlKpB9_qg19",
    "outputId": "8f10f44b-d323-4419-b8e8-5854374ddf43"
   },
   "outputs": [
    {
     "data": {
      "text/html": [
       "<div>\n",
       "<style scoped>\n",
       "    .dataframe tbody tr th:only-of-type {\n",
       "        vertical-align: middle;\n",
       "    }\n",
       "\n",
       "    .dataframe tbody tr th {\n",
       "        vertical-align: top;\n",
       "    }\n",
       "\n",
       "    .dataframe thead th {\n",
       "        text-align: right;\n",
       "    }\n",
       "</style>\n",
       "<table border=\"1\" class=\"dataframe\">\n",
       "  <thead>\n",
       "    <tr style=\"text-align: right;\">\n",
       "      <th></th>\n",
       "      <th>x_norm</th>\n",
       "      <th>x_unif</th>\n",
       "      <th>x_categ</th>\n",
       "      <th>x_date</th>\n",
       "    </tr>\n",
       "  </thead>\n",
       "  <tbody>\n",
       "    <tr>\n",
       "      <td>0</td>\n",
       "      <td>0.024824</td>\n",
       "      <td>0.514587</td>\n",
       "      <td>nan</td>\n",
       "      <td>1990-05-25</td>\n",
       "    </tr>\n",
       "    <tr>\n",
       "      <td>1</td>\n",
       "      <td>1.711368</td>\n",
       "      <td>0.852297</td>\n",
       "      <td>c3</td>\n",
       "      <td>1999-09-29</td>\n",
       "    </tr>\n",
       "    <tr>\n",
       "      <td>2</td>\n",
       "      <td>-0.518467</td>\n",
       "      <td>0.198161</td>\n",
       "      <td>c3</td>\n",
       "      <td>2004-03-06</td>\n",
       "    </tr>\n",
       "    <tr>\n",
       "      <td>3</td>\n",
       "      <td>0.101709</td>\n",
       "      <td>0.911193</td>\n",
       "      <td>c1</td>\n",
       "      <td>1994-01-02</td>\n",
       "    </tr>\n",
       "    <tr>\n",
       "      <td>4</td>\n",
       "      <td>-0.817334</td>\n",
       "      <td>0.165542</td>\n",
       "      <td>c3</td>\n",
       "      <td>2013-05-24</td>\n",
       "    </tr>\n",
       "  </tbody>\n",
       "</table>\n",
       "</div>"
      ],
      "text/plain": [
       "     x_norm    x_unif x_categ      x_date\n",
       "0  0.024824  0.514587     nan  1990-05-25\n",
       "1  1.711368  0.852297      c3  1999-09-29\n",
       "2 -0.518467  0.198161      c3  2004-03-06\n",
       "3  0.101709  0.911193      c1  1994-01-02\n",
       "4 -0.817334  0.165542      c3  2013-05-24"
      ]
     },
     "execution_count": 12,
     "metadata": {},
     "output_type": "execute_result"
    }
   ],
   "source": [
    "df_samp.head()"
   ]
  },
  {
   "cell_type": "code",
   "execution_count": 13,
   "metadata": {
    "colab": {
     "base_uri": "https://localhost:8080/",
     "height": 283
    },
    "colab_type": "code",
    "id": "0CS9c2Koi_Sh",
    "outputId": "70b6d773-67f5-4d2d-b4a2-d13ae6c7afaf"
   },
   "outputs": [
    {
     "data": {
      "text/plain": [
       "<matplotlib.collections.PathCollection at 0x7fcdc12fa950>"
      ]
     },
     "execution_count": 13,
     "metadata": {},
     "output_type": "execute_result"
    },
    {
     "data": {
      "image/png": "[encoded data removed]",
      "text/plain": [
       "<Figure size 432x288 with 1 Axes>"
      ]
     },
     "metadata": {
      "needs_background": "light"
     },
     "output_type": "display_data"
    }
   ],
   "source": [
    "# plot sampled data - normal vs categorical\n",
    "ax = plt.axes()\n",
    "ax.scatter(df_samp['x_norm'],df_samp['x_categ'])"
   ]
  },
  {
   "cell_type": "markdown",
   "metadata": {
    "colab_type": "text",
    "id": "H-fnaxSfqoXJ"
   },
   "source": [
    "Note the addition of the nan category. If desired, NAs can be imputed before calling syndat"
   ]
  },
  {
   "cell_type": "code",
   "execution_count": 14,
   "metadata": {
    "colab": {
     "base_uri": "https://localhost:8080/",
     "height": 283
    },
    "colab_type": "code",
    "id": "rclka1izi_Sj",
    "outputId": "e351c393-2eca-4bac-e492-da2ff651b2fc"
   },
   "outputs": [
    {
     "data": {
      "text/plain": [
       "<matplotlib.collections.PathCollection at 0x7fcd708b0e10>"
      ]
     },
     "execution_count": 14,
     "metadata": {},
     "output_type": "execute_result"
    },
    {
     "data": {
      "image/png": "[encoded data removed]",
      "text/plain": [
       "<Figure size 432x288 with 1 Axes>"
      ]
     },
     "metadata": {
      "needs_background": "light"
     },
     "output_type": "display_data"
    }
   ],
   "source": [
    "# plot sampled data - normal vs uniform\n",
    "ax = plt.axes()\n",
    "ax.scatter(df_samp['x_norm'],df_samp['x_unif'])"
   ]
  },
  {
   "cell_type": "markdown",
   "metadata": {
    "colab_type": "text",
    "id": "QvMb0SHSi_Sn"
   },
   "source": [
    "## Univariate density estimation and sampling"
   ]
  },
  {
   "cell_type": "code",
   "execution_count": 15,
   "metadata": {
    "colab": {
     "base_uri": "https://localhost:8080/",
     "height": 104
    },
    "colab_type": "code",
    "id": "VQrySYjVpQ4B",
    "outputId": "de541688-d6cc-430a-db6e-a3895b4b6858"
   },
   "outputs": [
    {
     "data": {
      "text/plain": [
       "x_norm     100\n",
       "x_unif     100\n",
       "x_categ    100\n",
       "x_date       0\n",
       "dtype: int64"
      ]
     },
     "execution_count": 15,
     "metadata": {},
     "output_type": "execute_result"
    }
   ],
   "source": [
    "# unlike the multivariate approach, the univariate approach\n",
    "# does not break if there are NAs in int and float cols\n",
    "df.isnull().sum()"
   ]
  },
  {
   "cell_type": "code",
   "execution_count": 16,
   "metadata": {
    "colab": {
     "base_uri": "https://localhost:8080/",
     "height": 87
    },
    "colab_type": "code",
    "id": "Exe5Phkyi_Sp",
    "outputId": "c2cf1ae6-0f2f-4a21-cf67-8afe57edaf0f"
   },
   "outputs": [
    {
     "name": "stderr",
     "output_type": "stream",
     "text": [
      "/Users/mohammad.kayvanrad/anaconda3/lib/python3.7/site-packages/statsmodels/nonparametric/kde.py:547: RuntimeWarning: invalid value encountered in greater\n",
      "  x = x[np.logical_and(x > clip[0], x < clip[1])]\n",
      "/Users/mohammad.kayvanrad/anaconda3/lib/python3.7/site-packages/statsmodels/nonparametric/kde.py:547: RuntimeWarning: invalid value encountered in less\n",
      "  x = x[np.logical_and(x > clip[0], x < clip[1])]\n"
     ]
    }
   ],
   "source": [
    "sd = syndat.SynDat(df, cols, multivariate=False, convert_dt=True)"
   ]
  },
  {
   "cell_type": "code",
   "execution_count": 17,
   "metadata": {
    "colab": {
     "base_uri": "https://localhost:8080/",
     "height": 202
    },
    "colab_type": "code",
    "id": "FLqvvm0qi_Sr",
    "outputId": "171d527b-d401-4fbe-9cd1-068c7cb4984a"
   },
   "outputs": [
    {
     "data": {
      "text/html": [
       "<div>\n",
       "<style scoped>\n",
       "    .dataframe tbody tr th:only-of-type {\n",
       "        vertical-align: middle;\n",
       "    }\n",
       "\n",
       "    .dataframe tbody tr th {\n",
       "        vertical-align: top;\n",
       "    }\n",
       "\n",
       "    .dataframe thead th {\n",
       "        text-align: right;\n",
       "    }\n",
       "</style>\n",
       "<table border=\"1\" class=\"dataframe\">\n",
       "  <thead>\n",
       "    <tr style=\"text-align: right;\">\n",
       "      <th></th>\n",
       "      <th>x_norm</th>\n",
       "      <th>x_unif</th>\n",
       "      <th>x_categ</th>\n",
       "      <th>x_date</th>\n",
       "    </tr>\n",
       "  </thead>\n",
       "  <tbody>\n",
       "    <tr>\n",
       "      <td>0</td>\n",
       "      <td>0.785347</td>\n",
       "      <td>0.932041</td>\n",
       "      <td>c3</td>\n",
       "      <td>2007-09-13</td>\n",
       "    </tr>\n",
       "    <tr>\n",
       "      <td>1</td>\n",
       "      <td>-1.211327</td>\n",
       "      <td>0.263822</td>\n",
       "      <td>c3</td>\n",
       "      <td>2012-07-03</td>\n",
       "    </tr>\n",
       "    <tr>\n",
       "      <td>2</td>\n",
       "      <td>-0.855601</td>\n",
       "      <td>0.621652</td>\n",
       "      <td>c2</td>\n",
       "      <td>2003-04-13</td>\n",
       "    </tr>\n",
       "    <tr>\n",
       "      <td>3</td>\n",
       "      <td>0.048086</td>\n",
       "      <td>0.994317</td>\n",
       "      <td>c3</td>\n",
       "      <td>2013-07-10</td>\n",
       "    </tr>\n",
       "    <tr>\n",
       "      <td>4</td>\n",
       "      <td>0.791514</td>\n",
       "      <td>0.776273</td>\n",
       "      <td>c2</td>\n",
       "      <td>2004-10-25</td>\n",
       "    </tr>\n",
       "  </tbody>\n",
       "</table>\n",
       "</div>"
      ],
      "text/plain": [
       "     x_norm    x_unif x_categ      x_date\n",
       "0  0.785347  0.932041      c3  2007-09-13\n",
       "1 -1.211327  0.263822      c3  2012-07-03\n",
       "2 -0.855601  0.621652      c2  2003-04-13\n",
       "3  0.048086  0.994317      c3  2013-07-10\n",
       "4  0.791514  0.776273      c2  2004-10-25"
      ]
     },
     "execution_count": 17,
     "metadata": {},
     "output_type": "execute_result"
    }
   ],
   "source": [
    "df_samp = sd.get_sample(n=1000)\n",
    "df_samp.head()"
   ]
  },
  {
   "cell_type": "code",
   "execution_count": 18,
   "metadata": {
    "colab": {
     "base_uri": "https://localhost:8080/",
     "height": 283
    },
    "colab_type": "code",
    "id": "c_MjYmOMi_St",
    "outputId": "734fd1ca-e52a-44cd-aed1-0018add137ad"
   },
   "outputs": [
    {
     "data": {
      "text/plain": [
       "<matplotlib.collections.PathCollection at 0x7fcda07d1250>"
      ]
     },
     "execution_count": 18,
     "metadata": {},
     "output_type": "execute_result"
    },
    {
     "data": {
      "image/png": "[encoded data removed]",
      "text/plain": [
       "<Figure size 432x288 with 1 Axes>"
      ]
     },
     "metadata": {
      "needs_background": "light"
     },
     "output_type": "display_data"
    }
   ],
   "source": [
    "# plot sampled data - normal vs categorical\n",
    "ax = plt.axes()\n",
    "ax.scatter(df_samp['x_norm'],df_samp['x_categ'])"
   ]
  },
  {
   "cell_type": "code",
   "execution_count": 19,
   "metadata": {
    "colab": {
     "base_uri": "https://localhost:8080/",
     "height": 283
    },
    "colab_type": "code",
    "id": "ru8-TukMi_Su",
    "outputId": "83d82659-2700-47e8-88b6-c0d2d972c85c"
   },
   "outputs": [
    {
     "data": {
      "text/plain": [
       "<matplotlib.collections.PathCollection at 0x7fcdc18ec5d0>"
      ]
     },
     "execution_count": 19,
     "metadata": {},
     "output_type": "execute_result"
    },
    {
     "data": {
      "image/png": "[encoded data removed]",
      "text/plain": [
       "<Figure size 432x288 with 1 Axes>"
      ]
     },
     "metadata": {
      "needs_background": "light"
     },
     "output_type": "display_data"
    }
   ],
   "source": [
    "# plot sampled data - normal vs uniform\n",
    "ax = plt.axes()\n",
    "ax.scatter(df_samp['x_norm'],df_samp['x_unif'])"
   ]
  },
  {
   "cell_type": "markdown",
   "metadata": {
    "colab_type": "text",
    "id": "YBsOFYWAi_Sw"
   },
   "source": [
    "# Encoding categorical variables (e.g., for masking the real data)"
   ]
  },
  {
   "cell_type": "code",
   "execution_count": 23,
   "metadata": {
    "colab": {
     "base_uri": "https://localhost:8080/",
     "height": 202
    },
    "colab_type": "code",
    "id": "lPTFuzqLi_Sx",
    "outputId": "2dcfd2f3-006b-4b9b-c635-6089fa57c9c7"
   },
   "outputs": [
    {
     "data": {
      "text/html": [
       "<div>\n",
       "<style scoped>\n",
       "    .dataframe tbody tr th:only-of-type {\n",
       "        vertical-align: middle;\n",
       "    }\n",
       "\n",
       "    .dataframe tbody tr th {\n",
       "        vertical-align: top;\n",
       "    }\n",
       "\n",
       "    .dataframe thead th {\n",
       "        text-align: right;\n",
       "    }\n",
       "</style>\n",
       "<table border=\"1\" class=\"dataframe\">\n",
       "  <thead>\n",
       "    <tr style=\"text-align: right;\">\n",
       "      <th></th>\n",
       "      <th>x_norm</th>\n",
       "      <th>x_unif</th>\n",
       "      <th>x_categ</th>\n",
       "      <th>x_date</th>\n",
       "    </tr>\n",
       "  </thead>\n",
       "  <tbody>\n",
       "    <tr>\n",
       "      <td>0</td>\n",
       "      <td>0.785347</td>\n",
       "      <td>0.932041</td>\n",
       "      <td>c3</td>\n",
       "      <td>2007-09-13</td>\n",
       "    </tr>\n",
       "    <tr>\n",
       "      <td>1</td>\n",
       "      <td>-1.211327</td>\n",
       "      <td>0.263822</td>\n",
       "      <td>c3</td>\n",
       "      <td>2012-07-03</td>\n",
       "    </tr>\n",
       "    <tr>\n",
       "      <td>2</td>\n",
       "      <td>-0.855601</td>\n",
       "      <td>0.621652</td>\n",
       "      <td>c2</td>\n",
       "      <td>2003-04-13</td>\n",
       "    </tr>\n",
       "    <tr>\n",
       "      <td>3</td>\n",
       "      <td>0.048086</td>\n",
       "      <td>0.994317</td>\n",
       "      <td>c3</td>\n",
       "      <td>2013-07-10</td>\n",
       "    </tr>\n",
       "    <tr>\n",
       "      <td>4</td>\n",
       "      <td>0.791514</td>\n",
       "      <td>0.776273</td>\n",
       "      <td>c2</td>\n",
       "      <td>2004-10-25</td>\n",
       "    </tr>\n",
       "  </tbody>\n",
       "</table>\n",
       "</div>"
      ],
      "text/plain": [
       "     x_norm    x_unif x_categ      x_date\n",
       "0  0.785347  0.932041      c3  2007-09-13\n",
       "1 -1.211327  0.263822      c3  2012-07-03\n",
       "2 -0.855601  0.621652      c2  2003-04-13\n",
       "3  0.048086  0.994317      c3  2013-07-10\n",
       "4  0.791514  0.776273      c2  2004-10-25"
      ]
     },
     "execution_count": 23,
     "metadata": {},
     "output_type": "execute_result"
    }
   ],
   "source": [
    "df_samp.head()"
   ]
  },
  {
   "cell_type": "code",
   "execution_count": 31,
   "metadata": {
    "colab": {
     "base_uri": "https://localhost:8080/",
     "height": 202
    },
    "colab_type": "code",
    "id": "SWPgAHyPi_Sz",
    "outputId": "e823ef72-a654-4794-910e-bce9fb44821e"
   },
   "outputs": [
    {
     "data": {
      "text/html": [
       "<div>\n",
       "<style scoped>\n",
       "    .dataframe tbody tr th:only-of-type {\n",
       "        vertical-align: middle;\n",
       "    }\n",
       "\n",
       "    .dataframe tbody tr th {\n",
       "        vertical-align: top;\n",
       "    }\n",
       "\n",
       "    .dataframe thead th {\n",
       "        text-align: right;\n",
       "    }\n",
       "</style>\n",
       "<table border=\"1\" class=\"dataframe\">\n",
       "  <thead>\n",
       "    <tr style=\"text-align: right;\">\n",
       "      <th></th>\n",
       "      <th>x_norm</th>\n",
       "      <th>x_unif</th>\n",
       "      <th>x_categ</th>\n",
       "      <th>x_date</th>\n",
       "    </tr>\n",
       "  </thead>\n",
       "  <tbody>\n",
       "    <tr>\n",
       "      <td>0</td>\n",
       "      <td>0.785347</td>\n",
       "      <td>0.932041</td>\n",
       "      <td>2</td>\n",
       "      <td>2007-09-13</td>\n",
       "    </tr>\n",
       "    <tr>\n",
       "      <td>1</td>\n",
       "      <td>-1.211327</td>\n",
       "      <td>0.263822</td>\n",
       "      <td>2</td>\n",
       "      <td>2012-07-03</td>\n",
       "    </tr>\n",
       "    <tr>\n",
       "      <td>2</td>\n",
       "      <td>-0.855601</td>\n",
       "      <td>0.621652</td>\n",
       "      <td>1</td>\n",
       "      <td>2003-04-13</td>\n",
       "    </tr>\n",
       "    <tr>\n",
       "      <td>3</td>\n",
       "      <td>0.048086</td>\n",
       "      <td>0.994317</td>\n",
       "      <td>2</td>\n",
       "      <td>2013-07-10</td>\n",
       "    </tr>\n",
       "    <tr>\n",
       "      <td>4</td>\n",
       "      <td>0.791514</td>\n",
       "      <td>0.776273</td>\n",
       "      <td>1</td>\n",
       "      <td>2004-10-25</td>\n",
       "    </tr>\n",
       "  </tbody>\n",
       "</table>\n",
       "</div>"
      ],
      "text/plain": [
       "     x_norm    x_unif x_categ      x_date\n",
       "0  0.785347  0.932041       2  2007-09-13\n",
       "1 -1.211327  0.263822       2  2012-07-03\n",
       "2 -0.855601  0.621652       1  2003-04-13\n",
       "3  0.048086  0.994317       2  2013-07-10\n",
       "4  0.791514  0.776273       1  2004-10-25"
      ]
     },
     "execution_count": 31,
     "metadata": {},
     "output_type": "execute_result"
    }
   ],
   "source": [
    "import label_encoder\n",
    "\n",
    "le_grp_dict = {\n",
    "    'categ': [df_samp['x_categ']]\n",
    "}\n",
    "\n",
    "le_dict = {\n",
    "    'categ': ['x_categ']\n",
    "}\n",
    "\n",
    "le = label_encoder.LabelEncoder(le_grp_dict)\n",
    "df_samp = le.encode(df_samp, le_dict)\n",
    "df_samp.head()"
   ]
  },
  {
   "cell_type": "code",
   "execution_count": 32,
   "metadata": {},
   "outputs": [
    {
     "data": {
      "text/html": [
       "<div>\n",
       "<style scoped>\n",
       "    .dataframe tbody tr th:only-of-type {\n",
       "        vertical-align: middle;\n",
       "    }\n",
       "\n",
       "    .dataframe tbody tr th {\n",
       "        vertical-align: top;\n",
       "    }\n",
       "\n",
       "    .dataframe thead th {\n",
       "        text-align: right;\n",
       "    }\n",
       "</style>\n",
       "<table border=\"1\" class=\"dataframe\">\n",
       "  <thead>\n",
       "    <tr style=\"text-align: right;\">\n",
       "      <th></th>\n",
       "      <th>x_norm</th>\n",
       "      <th>x_unif</th>\n",
       "      <th>x_categ</th>\n",
       "      <th>x_date</th>\n",
       "    </tr>\n",
       "  </thead>\n",
       "  <tbody>\n",
       "    <tr>\n",
       "      <td>0</td>\n",
       "      <td>0.785347</td>\n",
       "      <td>0.932041</td>\n",
       "      <td>cat2</td>\n",
       "      <td>2007-09-13</td>\n",
       "    </tr>\n",
       "    <tr>\n",
       "      <td>1</td>\n",
       "      <td>-1.211327</td>\n",
       "      <td>0.263822</td>\n",
       "      <td>cat2</td>\n",
       "      <td>2012-07-03</td>\n",
       "    </tr>\n",
       "    <tr>\n",
       "      <td>2</td>\n",
       "      <td>-0.855601</td>\n",
       "      <td>0.621652</td>\n",
       "      <td>cat1</td>\n",
       "      <td>2003-04-13</td>\n",
       "    </tr>\n",
       "    <tr>\n",
       "      <td>3</td>\n",
       "      <td>0.048086</td>\n",
       "      <td>0.994317</td>\n",
       "      <td>cat2</td>\n",
       "      <td>2013-07-10</td>\n",
       "    </tr>\n",
       "    <tr>\n",
       "      <td>4</td>\n",
       "      <td>0.791514</td>\n",
       "      <td>0.776273</td>\n",
       "      <td>cat1</td>\n",
       "      <td>2004-10-25</td>\n",
       "    </tr>\n",
       "  </tbody>\n",
       "</table>\n",
       "</div>"
      ],
      "text/plain": [
       "     x_norm    x_unif x_categ      x_date\n",
       "0  0.785347  0.932041    cat2  2007-09-13\n",
       "1 -1.211327  0.263822    cat2  2012-07-03\n",
       "2 -0.855601  0.621652    cat1  2003-04-13\n",
       "3  0.048086  0.994317    cat2  2013-07-10\n",
       "4  0.791514  0.776273    cat1  2004-10-25"
      ]
     },
     "execution_count": 32,
     "metadata": {},
     "output_type": "execute_result"
    }
   ],
   "source": [
    "# adding prefix to the encoded categories\n",
    "prefix_dict = {\n",
    "    'x_categ': 'cat'\n",
    "}\n",
    "\n",
    "df_samp = le.add_prefix(df_samp, prefix_dict)\n",
    "\n",
    "df_samp.head()"
   ]
  }
 ],
 "metadata": {
  "colab": {
   "name": "syndat_usage_example.ipynb",
   "provenance": []
  },
  "kernelspec": {
   "display_name": "Python 3",
   "language": "python",
   "name": "python3"
  },
  "language_info": {
   "codemirror_mode": {
    "name": "ipython",
    "version": 3
   },
   "file_extension": ".py",
   "mimetype": "text/x-python",
   "name": "python",
   "nbconvert_exporter": "python",
   "pygments_lexer": "ipython3",
   "version": "3.7.4"
  }
 },
 "nbformat": 4,
 "nbformat_minor": 4
}
